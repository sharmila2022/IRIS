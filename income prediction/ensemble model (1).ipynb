{
 "cells": [
  {
   "cell_type": "code",
   "execution_count": 37,
   "id": "19196a82",
   "metadata": {},
   "outputs": [],
   "source": [
    "import pandas as pd\n",
    "import numpy as np\n",
    "import matplotlib.pyplot as plt"
   ]
  },
  {
   "cell_type": "code",
   "execution_count": 38,
   "id": "232030af",
   "metadata": {},
   "outputs": [
    {
     "data": {
      "text/html": [
       "<div>\n",
       "<style scoped>\n",
       "    .dataframe tbody tr th:only-of-type {\n",
       "        vertical-align: middle;\n",
       "    }\n",
       "\n",
       "    .dataframe tbody tr th {\n",
       "        vertical-align: top;\n",
       "    }\n",
       "\n",
       "    .dataframe thead th {\n",
       "        text-align: right;\n",
       "    }\n",
       "</style>\n",
       "<table border=\"1\" class=\"dataframe\">\n",
       "  <thead>\n",
       "    <tr style=\"text-align: right;\">\n",
       "      <th></th>\n",
       "      <th>age</th>\n",
       "      <th>fnlwgt</th>\n",
       "      <th>education_num</th>\n",
       "      <th>capital_gain</th>\n",
       "      <th>capital_loss</th>\n",
       "      <th>hours_per_week</th>\n",
       "      <th>income_level</th>\n",
       "    </tr>\n",
       "  </thead>\n",
       "  <tbody>\n",
       "    <tr>\n",
       "      <th>0</th>\n",
       "      <td>39</td>\n",
       "      <td>77516</td>\n",
       "      <td>13</td>\n",
       "      <td>2174</td>\n",
       "      <td>0</td>\n",
       "      <td>40</td>\n",
       "      <td>0</td>\n",
       "    </tr>\n",
       "    <tr>\n",
       "      <th>1</th>\n",
       "      <td>50</td>\n",
       "      <td>83311</td>\n",
       "      <td>13</td>\n",
       "      <td>0</td>\n",
       "      <td>0</td>\n",
       "      <td>13</td>\n",
       "      <td>0</td>\n",
       "    </tr>\n",
       "    <tr>\n",
       "      <th>2</th>\n",
       "      <td>38</td>\n",
       "      <td>215646</td>\n",
       "      <td>9</td>\n",
       "      <td>0</td>\n",
       "      <td>0</td>\n",
       "      <td>40</td>\n",
       "      <td>0</td>\n",
       "    </tr>\n",
       "    <tr>\n",
       "      <th>3</th>\n",
       "      <td>53</td>\n",
       "      <td>234721</td>\n",
       "      <td>7</td>\n",
       "      <td>0</td>\n",
       "      <td>0</td>\n",
       "      <td>40</td>\n",
       "      <td>0</td>\n",
       "    </tr>\n",
       "    <tr>\n",
       "      <th>4</th>\n",
       "      <td>28</td>\n",
       "      <td>338409</td>\n",
       "      <td>13</td>\n",
       "      <td>0</td>\n",
       "      <td>0</td>\n",
       "      <td>40</td>\n",
       "      <td>0</td>\n",
       "    </tr>\n",
       "    <tr>\n",
       "      <th>...</th>\n",
       "      <td>...</td>\n",
       "      <td>...</td>\n",
       "      <td>...</td>\n",
       "      <td>...</td>\n",
       "      <td>...</td>\n",
       "      <td>...</td>\n",
       "      <td>...</td>\n",
       "    </tr>\n",
       "    <tr>\n",
       "      <th>48837</th>\n",
       "      <td>39</td>\n",
       "      <td>215419</td>\n",
       "      <td>13</td>\n",
       "      <td>0</td>\n",
       "      <td>0</td>\n",
       "      <td>36</td>\n",
       "      <td>0</td>\n",
       "    </tr>\n",
       "    <tr>\n",
       "      <th>48838</th>\n",
       "      <td>64</td>\n",
       "      <td>321403</td>\n",
       "      <td>9</td>\n",
       "      <td>0</td>\n",
       "      <td>0</td>\n",
       "      <td>40</td>\n",
       "      <td>0</td>\n",
       "    </tr>\n",
       "    <tr>\n",
       "      <th>48839</th>\n",
       "      <td>38</td>\n",
       "      <td>374983</td>\n",
       "      <td>13</td>\n",
       "      <td>0</td>\n",
       "      <td>0</td>\n",
       "      <td>50</td>\n",
       "      <td>0</td>\n",
       "    </tr>\n",
       "    <tr>\n",
       "      <th>48840</th>\n",
       "      <td>44</td>\n",
       "      <td>83891</td>\n",
       "      <td>13</td>\n",
       "      <td>5455</td>\n",
       "      <td>0</td>\n",
       "      <td>40</td>\n",
       "      <td>0</td>\n",
       "    </tr>\n",
       "    <tr>\n",
       "      <th>48841</th>\n",
       "      <td>35</td>\n",
       "      <td>182148</td>\n",
       "      <td>13</td>\n",
       "      <td>0</td>\n",
       "      <td>0</td>\n",
       "      <td>60</td>\n",
       "      <td>1</td>\n",
       "    </tr>\n",
       "  </tbody>\n",
       "</table>\n",
       "<p>48842 rows × 7 columns</p>\n",
       "</div>"
      ],
      "text/plain": [
       "       age  fnlwgt  education_num  capital_gain  capital_loss  hours_per_week  \\\n",
       "0       39   77516             13          2174             0              40   \n",
       "1       50   83311             13             0             0              13   \n",
       "2       38  215646              9             0             0              40   \n",
       "3       53  234721              7             0             0              40   \n",
       "4       28  338409             13             0             0              40   \n",
       "...    ...     ...            ...           ...           ...             ...   \n",
       "48837   39  215419             13             0             0              36   \n",
       "48838   64  321403              9             0             0              40   \n",
       "48839   38  374983             13             0             0              50   \n",
       "48840   44   83891             13          5455             0              40   \n",
       "48841   35  182148             13             0             0              60   \n",
       "\n",
       "       income_level  \n",
       "0                 0  \n",
       "1                 0  \n",
       "2                 0  \n",
       "3                 0  \n",
       "4                 0  \n",
       "...             ...  \n",
       "48837             0  \n",
       "48838             0  \n",
       "48839             0  \n",
       "48840             0  \n",
       "48841             1  \n",
       "\n",
       "[48842 rows x 7 columns]"
      ]
     },
     "execution_count": 38,
     "metadata": {},
     "output_type": "execute_result"
    }
   ],
   "source": [
    "data=pd.read_csv('income.csv')\n",
    "data"
   ]
  },
  {
   "cell_type": "code",
   "execution_count": 39,
   "id": "77658ea8",
   "metadata": {},
   "outputs": [
    {
     "data": {
      "text/plain": [
       "Index(['age', 'fnlwgt', 'education_num', 'capital_gain', 'capital_loss',\n",
       "       'hours_per_week', 'income_level'],\n",
       "      dtype='object')"
      ]
     },
     "execution_count": 39,
     "metadata": {},
     "output_type": "execute_result"
    }
   ],
   "source": [
    "data.columns\n"
   ]
  },
  {
   "cell_type": "code",
   "execution_count": 40,
   "id": "d8b4a0ba",
   "metadata": {},
   "outputs": [
    {
     "data": {
      "text/plain": [
       "age               0\n",
       "fnlwgt            0\n",
       "education_num     0\n",
       "capital_gain      0\n",
       "capital_loss      0\n",
       "hours_per_week    0\n",
       "income_level      0\n",
       "dtype: int64"
      ]
     },
     "execution_count": 40,
     "metadata": {},
     "output_type": "execute_result"
    }
   ],
   "source": [
    "data.isnull().sum()"
   ]
  },
  {
   "cell_type": "code",
   "execution_count": 41,
   "id": "5b4153a7",
   "metadata": {},
   "outputs": [
    {
     "name": "stdout",
     "output_type": "stream",
     "text": [
      "<class 'pandas.core.frame.DataFrame'>\n",
      "RangeIndex: 48842 entries, 0 to 48841\n",
      "Data columns (total 7 columns):\n",
      " #   Column          Non-Null Count  Dtype\n",
      "---  ------          --------------  -----\n",
      " 0   age             48842 non-null  int64\n",
      " 1   fnlwgt          48842 non-null  int64\n",
      " 2   education_num   48842 non-null  int64\n",
      " 3   capital_gain    48842 non-null  int64\n",
      " 4   capital_loss    48842 non-null  int64\n",
      " 5   hours_per_week  48842 non-null  int64\n",
      " 6   income_level    48842 non-null  int64\n",
      "dtypes: int64(7)\n",
      "memory usage: 2.6 MB\n"
     ]
    }
   ],
   "source": [
    "data.info()"
   ]
  },
  {
   "cell_type": "code",
   "execution_count": 42,
   "id": "b3a39aa0",
   "metadata": {},
   "outputs": [
    {
     "data": {
      "text/html": [
       "<div>\n",
       "<style scoped>\n",
       "    .dataframe tbody tr th:only-of-type {\n",
       "        vertical-align: middle;\n",
       "    }\n",
       "\n",
       "    .dataframe tbody tr th {\n",
       "        vertical-align: top;\n",
       "    }\n",
       "\n",
       "    .dataframe thead th {\n",
       "        text-align: right;\n",
       "    }\n",
       "</style>\n",
       "<table border=\"1\" class=\"dataframe\">\n",
       "  <thead>\n",
       "    <tr style=\"text-align: right;\">\n",
       "      <th></th>\n",
       "      <th>age</th>\n",
       "      <th>fnlwgt</th>\n",
       "      <th>education_num</th>\n",
       "      <th>capital_gain</th>\n",
       "      <th>capital_loss</th>\n",
       "      <th>hours_per_week</th>\n",
       "      <th>income_level</th>\n",
       "    </tr>\n",
       "  </thead>\n",
       "  <tbody>\n",
       "    <tr>\n",
       "      <th>count</th>\n",
       "      <td>48842.000000</td>\n",
       "      <td>4.884200e+04</td>\n",
       "      <td>48842.000000</td>\n",
       "      <td>48842.000000</td>\n",
       "      <td>48842.000000</td>\n",
       "      <td>48842.000000</td>\n",
       "      <td>48842.000000</td>\n",
       "    </tr>\n",
       "    <tr>\n",
       "      <th>mean</th>\n",
       "      <td>38.643585</td>\n",
       "      <td>1.896641e+05</td>\n",
       "      <td>10.078089</td>\n",
       "      <td>1079.067626</td>\n",
       "      <td>87.502314</td>\n",
       "      <td>40.422382</td>\n",
       "      <td>0.239282</td>\n",
       "    </tr>\n",
       "    <tr>\n",
       "      <th>std</th>\n",
       "      <td>13.710510</td>\n",
       "      <td>1.056040e+05</td>\n",
       "      <td>2.570973</td>\n",
       "      <td>7452.019058</td>\n",
       "      <td>403.004552</td>\n",
       "      <td>12.391444</td>\n",
       "      <td>0.426649</td>\n",
       "    </tr>\n",
       "    <tr>\n",
       "      <th>min</th>\n",
       "      <td>17.000000</td>\n",
       "      <td>1.228500e+04</td>\n",
       "      <td>1.000000</td>\n",
       "      <td>0.000000</td>\n",
       "      <td>0.000000</td>\n",
       "      <td>1.000000</td>\n",
       "      <td>0.000000</td>\n",
       "    </tr>\n",
       "    <tr>\n",
       "      <th>25%</th>\n",
       "      <td>28.000000</td>\n",
       "      <td>1.175505e+05</td>\n",
       "      <td>9.000000</td>\n",
       "      <td>0.000000</td>\n",
       "      <td>0.000000</td>\n",
       "      <td>40.000000</td>\n",
       "      <td>0.000000</td>\n",
       "    </tr>\n",
       "    <tr>\n",
       "      <th>50%</th>\n",
       "      <td>37.000000</td>\n",
       "      <td>1.781445e+05</td>\n",
       "      <td>10.000000</td>\n",
       "      <td>0.000000</td>\n",
       "      <td>0.000000</td>\n",
       "      <td>40.000000</td>\n",
       "      <td>0.000000</td>\n",
       "    </tr>\n",
       "    <tr>\n",
       "      <th>75%</th>\n",
       "      <td>48.000000</td>\n",
       "      <td>2.376420e+05</td>\n",
       "      <td>12.000000</td>\n",
       "      <td>0.000000</td>\n",
       "      <td>0.000000</td>\n",
       "      <td>45.000000</td>\n",
       "      <td>0.000000</td>\n",
       "    </tr>\n",
       "    <tr>\n",
       "      <th>max</th>\n",
       "      <td>90.000000</td>\n",
       "      <td>1.490400e+06</td>\n",
       "      <td>16.000000</td>\n",
       "      <td>99999.000000</td>\n",
       "      <td>4356.000000</td>\n",
       "      <td>99.000000</td>\n",
       "      <td>1.000000</td>\n",
       "    </tr>\n",
       "  </tbody>\n",
       "</table>\n",
       "</div>"
      ],
      "text/plain": [
       "                age        fnlwgt  education_num  capital_gain  capital_loss  \\\n",
       "count  48842.000000  4.884200e+04   48842.000000  48842.000000  48842.000000   \n",
       "mean      38.643585  1.896641e+05      10.078089   1079.067626     87.502314   \n",
       "std       13.710510  1.056040e+05       2.570973   7452.019058    403.004552   \n",
       "min       17.000000  1.228500e+04       1.000000      0.000000      0.000000   \n",
       "25%       28.000000  1.175505e+05       9.000000      0.000000      0.000000   \n",
       "50%       37.000000  1.781445e+05      10.000000      0.000000      0.000000   \n",
       "75%       48.000000  2.376420e+05      12.000000      0.000000      0.000000   \n",
       "max       90.000000  1.490400e+06      16.000000  99999.000000   4356.000000   \n",
       "\n",
       "       hours_per_week  income_level  \n",
       "count    48842.000000  48842.000000  \n",
       "mean        40.422382      0.239282  \n",
       "std         12.391444      0.426649  \n",
       "min          1.000000      0.000000  \n",
       "25%         40.000000      0.000000  \n",
       "50%         40.000000      0.000000  \n",
       "75%         45.000000      0.000000  \n",
       "max         99.000000      1.000000  "
      ]
     },
     "execution_count": 42,
     "metadata": {},
     "output_type": "execute_result"
    }
   ],
   "source": [
    "data.describe()"
   ]
  },
  {
   "cell_type": "code",
   "execution_count": 43,
   "id": "f2df9156",
   "metadata": {},
   "outputs": [
    {
     "data": {
      "text/html": [
       "<div>\n",
       "<style scoped>\n",
       "    .dataframe tbody tr th:only-of-type {\n",
       "        vertical-align: middle;\n",
       "    }\n",
       "\n",
       "    .dataframe tbody tr th {\n",
       "        vertical-align: top;\n",
       "    }\n",
       "\n",
       "    .dataframe thead th {\n",
       "        text-align: right;\n",
       "    }\n",
       "</style>\n",
       "<table border=\"1\" class=\"dataframe\">\n",
       "  <thead>\n",
       "    <tr style=\"text-align: right;\">\n",
       "      <th></th>\n",
       "      <th>age</th>\n",
       "      <th>fnlwgt</th>\n",
       "      <th>education_num</th>\n",
       "      <th>capital_gain</th>\n",
       "      <th>capital_loss</th>\n",
       "      <th>hours_per_week</th>\n",
       "      <th>income_level</th>\n",
       "    </tr>\n",
       "  </thead>\n",
       "  <tbody>\n",
       "    <tr>\n",
       "      <th>age</th>\n",
       "      <td>1.000000</td>\n",
       "      <td>-0.076628</td>\n",
       "      <td>0.030940</td>\n",
       "      <td>0.077229</td>\n",
       "      <td>0.056944</td>\n",
       "      <td>0.071558</td>\n",
       "      <td>0.230369</td>\n",
       "    </tr>\n",
       "    <tr>\n",
       "      <th>fnlwgt</th>\n",
       "      <td>-0.076628</td>\n",
       "      <td>1.000000</td>\n",
       "      <td>-0.038761</td>\n",
       "      <td>-0.003706</td>\n",
       "      <td>-0.004366</td>\n",
       "      <td>-0.013519</td>\n",
       "      <td>-0.006339</td>\n",
       "    </tr>\n",
       "    <tr>\n",
       "      <th>education_num</th>\n",
       "      <td>0.030940</td>\n",
       "      <td>-0.038761</td>\n",
       "      <td>1.000000</td>\n",
       "      <td>0.125146</td>\n",
       "      <td>0.080972</td>\n",
       "      <td>0.143689</td>\n",
       "      <td>0.332613</td>\n",
       "    </tr>\n",
       "    <tr>\n",
       "      <th>capital_gain</th>\n",
       "      <td>0.077229</td>\n",
       "      <td>-0.003706</td>\n",
       "      <td>0.125146</td>\n",
       "      <td>1.000000</td>\n",
       "      <td>-0.031441</td>\n",
       "      <td>0.082157</td>\n",
       "      <td>0.223013</td>\n",
       "    </tr>\n",
       "    <tr>\n",
       "      <th>capital_loss</th>\n",
       "      <td>0.056944</td>\n",
       "      <td>-0.004366</td>\n",
       "      <td>0.080972</td>\n",
       "      <td>-0.031441</td>\n",
       "      <td>1.000000</td>\n",
       "      <td>0.054467</td>\n",
       "      <td>0.147554</td>\n",
       "    </tr>\n",
       "    <tr>\n",
       "      <th>hours_per_week</th>\n",
       "      <td>0.071558</td>\n",
       "      <td>-0.013519</td>\n",
       "      <td>0.143689</td>\n",
       "      <td>0.082157</td>\n",
       "      <td>0.054467</td>\n",
       "      <td>1.000000</td>\n",
       "      <td>0.227687</td>\n",
       "    </tr>\n",
       "    <tr>\n",
       "      <th>income_level</th>\n",
       "      <td>0.230369</td>\n",
       "      <td>-0.006339</td>\n",
       "      <td>0.332613</td>\n",
       "      <td>0.223013</td>\n",
       "      <td>0.147554</td>\n",
       "      <td>0.227687</td>\n",
       "      <td>1.000000</td>\n",
       "    </tr>\n",
       "  </tbody>\n",
       "</table>\n",
       "</div>"
      ],
      "text/plain": [
       "                     age    fnlwgt  education_num  capital_gain  capital_loss  \\\n",
       "age             1.000000 -0.076628       0.030940      0.077229      0.056944   \n",
       "fnlwgt         -0.076628  1.000000      -0.038761     -0.003706     -0.004366   \n",
       "education_num   0.030940 -0.038761       1.000000      0.125146      0.080972   \n",
       "capital_gain    0.077229 -0.003706       0.125146      1.000000     -0.031441   \n",
       "capital_loss    0.056944 -0.004366       0.080972     -0.031441      1.000000   \n",
       "hours_per_week  0.071558 -0.013519       0.143689      0.082157      0.054467   \n",
       "income_level    0.230369 -0.006339       0.332613      0.223013      0.147554   \n",
       "\n",
       "                hours_per_week  income_level  \n",
       "age                   0.071558      0.230369  \n",
       "fnlwgt               -0.013519     -0.006339  \n",
       "education_num         0.143689      0.332613  \n",
       "capital_gain          0.082157      0.223013  \n",
       "capital_loss          0.054467      0.147554  \n",
       "hours_per_week        1.000000      0.227687  \n",
       "income_level          0.227687      1.000000  "
      ]
     },
     "execution_count": 43,
     "metadata": {},
     "output_type": "execute_result"
    }
   ],
   "source": [
    "data.corr()"
   ]
  },
  {
   "cell_type": "code",
   "execution_count": 44,
   "id": "60b15027",
   "metadata": {},
   "outputs": [],
   "source": [
    "x=data.drop('income_level',axis=1)\n",
    "x=x.drop('education_num',axis=1)\n",
    "y=data['income_level']"
   ]
  },
  {
   "cell_type": "code",
   "execution_count": 45,
   "id": "5392dec5",
   "metadata": {},
   "outputs": [],
   "source": [
    "from sklearn.model_selection import train_test_split\n",
    "X_train,X_test,y_train,y_test=train_test_split(x,y,test_size=0.2)"
   ]
  },
  {
   "cell_type": "code",
   "execution_count": 46,
   "id": "bea44163",
   "metadata": {},
   "outputs": [],
   "source": [
    "from sklearn.linear_model import LogisticRegression\n",
    "Model_Logistic = LogisticRegression()"
   ]
  },
  {
   "cell_type": "markdown",
   "id": "6b14369e",
   "metadata": {},
   "source": [
    "using various classification algorithms "
   ]
  },
  {
   "cell_type": "markdown",
   "id": "fe8c2027",
   "metadata": {},
   "source": [
    "# Ada boost"
   ]
  },
  {
   "cell_type": "code",
   "execution_count": 47,
   "id": "9c21f5ef",
   "metadata": {},
   "outputs": [],
   "source": [
    "from sklearn.ensemble import AdaBoostClassifier\n",
    "from catboost import CatBoostClassifier\n",
    "from xgboost import XGBClassifier"
   ]
  },
  {
   "cell_type": "code",
   "execution_count": 48,
   "id": "01cbac57",
   "metadata": {},
   "outputs": [],
   "source": [
    "AdaModel = AdaBoostClassifier(n_estimators=50,base_estimator=Model_Logistic,learning_rate=1)\n",
    "#n_estimator=no of week learners,learning_rate=deafult weight assigner to these learners\n",
    "model=AdaModel.fit(X_train,y_train)"
   ]
  },
  {
   "cell_type": "code",
   "execution_count": 49,
   "id": "839d9111",
   "metadata": {},
   "outputs": [],
   "source": [
    "ypred=model.predict(X_test)"
   ]
  },
  {
   "cell_type": "code",
   "execution_count": 50,
   "id": "f2260209",
   "metadata": {},
   "outputs": [],
   "source": [
    "from sklearn import metrics"
   ]
  },
  {
   "cell_type": "code",
   "execution_count": 51,
   "id": "43327a92",
   "metadata": {},
   "outputs": [
    {
     "data": {
      "text/plain": [
       "0.7979322346197154"
      ]
     },
     "execution_count": 51,
     "metadata": {},
     "output_type": "execute_result"
    }
   ],
   "source": [
    "metrics.accuracy_score(y_test,ypred)"
   ]
  },
  {
   "cell_type": "markdown",
   "id": "4d5b062d",
   "metadata": {},
   "source": [
    "# catboost"
   ]
  },
  {
   "cell_type": "code",
   "execution_count": 52,
   "id": "55d3a6b2",
   "metadata": {},
   "outputs": [
    {
     "name": "stdout",
     "output_type": "stream",
     "text": [
      "Learning rate set to 0.407067\n",
      "0:\tlearn: 0.5436209\ttotal: 2.7ms\tremaining: 267ms\n",
      "1:\tlearn: 0.4793064\ttotal: 5.26ms\tremaining: 258ms\n",
      "2:\tlearn: 0.4440004\ttotal: 7.25ms\tremaining: 234ms\n",
      "3:\tlearn: 0.4261029\ttotal: 9.42ms\tremaining: 226ms\n",
      "4:\tlearn: 0.4129074\ttotal: 11.3ms\tremaining: 214ms\n",
      "5:\tlearn: 0.4078913\ttotal: 13.3ms\tremaining: 208ms\n",
      "6:\tlearn: 0.4015199\ttotal: 15.3ms\tremaining: 203ms\n",
      "7:\tlearn: 0.3973224\ttotal: 17.4ms\tremaining: 200ms\n",
      "8:\tlearn: 0.3941380\ttotal: 19.4ms\tremaining: 196ms\n",
      "9:\tlearn: 0.3922139\ttotal: 21.2ms\tremaining: 191ms\n",
      "10:\tlearn: 0.3898197\ttotal: 23.1ms\tremaining: 187ms\n",
      "11:\tlearn: 0.3879303\ttotal: 24.8ms\tremaining: 182ms\n",
      "12:\tlearn: 0.3870274\ttotal: 26.5ms\tremaining: 178ms\n",
      "13:\tlearn: 0.3864439\ttotal: 28.4ms\tremaining: 175ms\n",
      "14:\tlearn: 0.3857161\ttotal: 30.6ms\tremaining: 173ms\n",
      "15:\tlearn: 0.3843293\ttotal: 32.6ms\tremaining: 171ms\n",
      "16:\tlearn: 0.3839858\ttotal: 34.4ms\tremaining: 168ms\n",
      "17:\tlearn: 0.3837948\ttotal: 36.2ms\tremaining: 165ms\n",
      "18:\tlearn: 0.3823261\ttotal: 38ms\tremaining: 162ms\n",
      "19:\tlearn: 0.3814925\ttotal: 39.8ms\tremaining: 159ms\n",
      "20:\tlearn: 0.3811526\ttotal: 41.5ms\tremaining: 156ms\n",
      "21:\tlearn: 0.3807910\ttotal: 43.3ms\tremaining: 154ms\n",
      "22:\tlearn: 0.3800737\ttotal: 45.3ms\tremaining: 152ms\n",
      "23:\tlearn: 0.3798202\ttotal: 47.4ms\tremaining: 150ms\n",
      "24:\tlearn: 0.3796054\ttotal: 49.3ms\tremaining: 148ms\n",
      "25:\tlearn: 0.3786512\ttotal: 51.4ms\tremaining: 146ms\n",
      "26:\tlearn: 0.3784987\ttotal: 53.3ms\tremaining: 144ms\n",
      "27:\tlearn: 0.3781121\ttotal: 55.2ms\tremaining: 142ms\n",
      "28:\tlearn: 0.3765425\ttotal: 57ms\tremaining: 140ms\n",
      "29:\tlearn: 0.3757183\ttotal: 58.9ms\tremaining: 137ms\n",
      "30:\tlearn: 0.3754389\ttotal: 60.7ms\tremaining: 135ms\n",
      "31:\tlearn: 0.3744884\ttotal: 62.7ms\tremaining: 133ms\n",
      "32:\tlearn: 0.3737080\ttotal: 64.8ms\tremaining: 132ms\n",
      "33:\tlearn: 0.3731776\ttotal: 66.7ms\tremaining: 130ms\n",
      "34:\tlearn: 0.3730783\ttotal: 68.4ms\tremaining: 127ms\n",
      "35:\tlearn: 0.3727682\ttotal: 70.3ms\tremaining: 125ms\n",
      "36:\tlearn: 0.3726099\ttotal: 72ms\tremaining: 123ms\n",
      "37:\tlearn: 0.3721219\ttotal: 73.8ms\tremaining: 120ms\n",
      "38:\tlearn: 0.3717155\ttotal: 75.6ms\tremaining: 118ms\n",
      "39:\tlearn: 0.3708649\ttotal: 77.4ms\tremaining: 116ms\n",
      "40:\tlearn: 0.3703272\ttotal: 79.3ms\tremaining: 114ms\n",
      "41:\tlearn: 0.3701138\ttotal: 81ms\tremaining: 112ms\n",
      "42:\tlearn: 0.3700371\ttotal: 82.8ms\tremaining: 110ms\n",
      "43:\tlearn: 0.3697482\ttotal: 84.6ms\tremaining: 108ms\n",
      "44:\tlearn: 0.3694859\ttotal: 86.3ms\tremaining: 105ms\n",
      "45:\tlearn: 0.3692642\ttotal: 88ms\tremaining: 103ms\n",
      "46:\tlearn: 0.3688597\ttotal: 89.9ms\tremaining: 101ms\n",
      "47:\tlearn: 0.3687387\ttotal: 91.5ms\tremaining: 99.2ms\n",
      "48:\tlearn: 0.3686822\ttotal: 93.2ms\tremaining: 97ms\n",
      "49:\tlearn: 0.3684808\ttotal: 95.1ms\tremaining: 95.1ms\n",
      "50:\tlearn: 0.3681173\ttotal: 97ms\tremaining: 93.2ms\n",
      "51:\tlearn: 0.3678890\ttotal: 98.8ms\tremaining: 91.2ms\n",
      "52:\tlearn: 0.3676140\ttotal: 100ms\tremaining: 88.9ms\n",
      "53:\tlearn: 0.3674834\ttotal: 102ms\tremaining: 87ms\n",
      "54:\tlearn: 0.3667511\ttotal: 104ms\tremaining: 85.1ms\n",
      "55:\tlearn: 0.3665482\ttotal: 106ms\tremaining: 83ms\n",
      "56:\tlearn: 0.3665012\ttotal: 108ms\tremaining: 81.2ms\n",
      "57:\tlearn: 0.3662546\ttotal: 110ms\tremaining: 79.4ms\n",
      "58:\tlearn: 0.3661649\ttotal: 111ms\tremaining: 77.4ms\n",
      "59:\tlearn: 0.3658821\ttotal: 113ms\tremaining: 75.5ms\n",
      "60:\tlearn: 0.3658380\ttotal: 115ms\tremaining: 73.5ms\n",
      "61:\tlearn: 0.3656578\ttotal: 117ms\tremaining: 71.6ms\n",
      "62:\tlearn: 0.3653337\ttotal: 119ms\tremaining: 69.7ms\n",
      "63:\tlearn: 0.3651295\ttotal: 120ms\tremaining: 67.7ms\n",
      "64:\tlearn: 0.3650831\ttotal: 122ms\tremaining: 65.8ms\n",
      "65:\tlearn: 0.3648557\ttotal: 124ms\tremaining: 63.8ms\n",
      "66:\tlearn: 0.3647405\ttotal: 126ms\tremaining: 62ms\n",
      "67:\tlearn: 0.3647073\ttotal: 127ms\tremaining: 60ms\n",
      "68:\tlearn: 0.3643115\ttotal: 129ms\tremaining: 58.2ms\n",
      "69:\tlearn: 0.3642235\ttotal: 131ms\tremaining: 56.1ms\n",
      "70:\tlearn: 0.3640124\ttotal: 133ms\tremaining: 54.2ms\n",
      "71:\tlearn: 0.3639616\ttotal: 134ms\tremaining: 52.2ms\n",
      "72:\tlearn: 0.3637213\ttotal: 136ms\tremaining: 50.2ms\n",
      "73:\tlearn: 0.3635985\ttotal: 137ms\tremaining: 48.3ms\n",
      "74:\tlearn: 0.3634057\ttotal: 140ms\tremaining: 46.5ms\n",
      "75:\tlearn: 0.3632227\ttotal: 141ms\tremaining: 44.6ms\n",
      "76:\tlearn: 0.3628493\ttotal: 143ms\tremaining: 42.7ms\n",
      "77:\tlearn: 0.3627885\ttotal: 145ms\tremaining: 40.8ms\n",
      "78:\tlearn: 0.3626650\ttotal: 146ms\tremaining: 38.9ms\n",
      "79:\tlearn: 0.3624195\ttotal: 148ms\tremaining: 37ms\n",
      "80:\tlearn: 0.3623686\ttotal: 150ms\tremaining: 35.1ms\n",
      "81:\tlearn: 0.3622883\ttotal: 151ms\tremaining: 33.2ms\n",
      "82:\tlearn: 0.3620586\ttotal: 153ms\tremaining: 31.3ms\n",
      "83:\tlearn: 0.3619739\ttotal: 155ms\tremaining: 29.4ms\n",
      "84:\tlearn: 0.3619664\ttotal: 156ms\tremaining: 27.6ms\n",
      "85:\tlearn: 0.3618174\ttotal: 158ms\tremaining: 25.7ms\n",
      "86:\tlearn: 0.3616716\ttotal: 160ms\tremaining: 23.9ms\n",
      "87:\tlearn: 0.3615207\ttotal: 162ms\tremaining: 22ms\n",
      "88:\tlearn: 0.3613884\ttotal: 163ms\tremaining: 20.2ms\n",
      "89:\tlearn: 0.3612111\ttotal: 165ms\tremaining: 18.3ms\n",
      "90:\tlearn: 0.3611284\ttotal: 167ms\tremaining: 16.5ms\n",
      "91:\tlearn: 0.3610845\ttotal: 168ms\tremaining: 14.6ms\n",
      "92:\tlearn: 0.3607912\ttotal: 170ms\tremaining: 12.8ms\n",
      "93:\tlearn: 0.3606167\ttotal: 172ms\tremaining: 11ms\n",
      "94:\tlearn: 0.3605659\ttotal: 173ms\tremaining: 9.12ms\n",
      "95:\tlearn: 0.3605443\ttotal: 175ms\tremaining: 7.29ms\n",
      "96:\tlearn: 0.3604865\ttotal: 176ms\tremaining: 5.46ms\n",
      "97:\tlearn: 0.3602892\ttotal: 178ms\tremaining: 3.63ms\n",
      "98:\tlearn: 0.3600358\ttotal: 180ms\tremaining: 1.81ms\n",
      "99:\tlearn: 0.3597936\ttotal: 181ms\tremaining: 0us\n"
     ]
    },
    {
     "data": {
      "text/plain": [
       "<catboost.core.CatBoostClassifier at 0x7f851f59a4f0>"
      ]
     },
     "execution_count": 52,
     "metadata": {},
     "output_type": "execute_result"
    }
   ],
   "source": [
    "modelcb=CatBoostClassifier(n_estimators=100)\n",
    "modelcb.fit(X_train,y_train)"
   ]
  },
  {
   "cell_type": "code",
   "execution_count": 53,
   "id": "67c6435f",
   "metadata": {},
   "outputs": [],
   "source": [
    "ypredcb=modelcb.predict(X_test)"
   ]
  },
  {
   "cell_type": "code",
   "execution_count": 54,
   "id": "249e28bf",
   "metadata": {},
   "outputs": [
    {
     "data": {
      "text/plain": [
       "0.8261848705087522"
      ]
     },
     "execution_count": 54,
     "metadata": {},
     "output_type": "execute_result"
    }
   ],
   "source": [
    "metrics.accuracy_score(ypredcb,y_test)"
   ]
  },
  {
   "cell_type": "markdown",
   "id": "51f727f7",
   "metadata": {},
   "source": [
    "# XG boosting\n"
   ]
  },
  {
   "cell_type": "code",
   "execution_count": 55,
   "id": "8eaff12a",
   "metadata": {},
   "outputs": [
    {
     "data": {
      "text/plain": [
       "XGBClassifier(base_score=0.5, booster='gbtree', callbacks=None,\n",
       "              colsample_bylevel=1, colsample_bynode=1, colsample_bytree=1,\n",
       "              early_stopping_rounds=None, enable_categorical=False,\n",
       "              eval_metric=None, gamma=0, gpu_id=-1, grow_policy='depthwise',\n",
       "              importance_type=None, interaction_constraints='',\n",
       "              learning_rate=0.300000012, max_bin=256, max_cat_to_onehot=4,\n",
       "              max_delta_step=0, max_depth=6, max_leaves=0, min_child_weight=1,\n",
       "              missing=nan, monotone_constraints='()', n_estimators=100,\n",
       "              n_jobs=0, num_parallel_tree=1, predictor='auto', random_state=0,\n",
       "              reg_alpha=0, reg_lambda=1, ...)"
      ]
     },
     "execution_count": 55,
     "metadata": {},
     "output_type": "execute_result"
    }
   ],
   "source": [
    "modelxg = XGBClassifier()\n",
    "modelxg.fit(X_train.values,y_train)"
   ]
  },
  {
   "cell_type": "code",
   "execution_count": 56,
   "id": "0619829d",
   "metadata": {},
   "outputs": [],
   "source": [
    "from sklearn.preprocessing import LabelEncoder\n",
    "le = LabelEncoder()\n",
    "y_train = le.fit_transform(y_train)"
   ]
  },
  {
   "cell_type": "code",
   "execution_count": 57,
   "id": "ce428036",
   "metadata": {},
   "outputs": [],
   "source": [
    "ypredxg=modelxg.predict(X_test)"
   ]
  },
  {
   "cell_type": "code",
   "execution_count": 58,
   "id": "ed3e411f",
   "metadata": {},
   "outputs": [
    {
     "data": {
      "text/plain": [
       "0.8270037874910431"
      ]
     },
     "execution_count": 58,
     "metadata": {},
     "output_type": "execute_result"
    }
   ],
   "source": [
    "metrics.accuracy_score(ypredxg,y_test)"
   ]
  },
  {
   "cell_type": "markdown",
   "id": "91850f05",
   "metadata": {},
   "source": [
    "#Random forest"
   ]
  },
  {
   "cell_type": "code",
   "execution_count": 59,
   "id": "f08afaaa",
   "metadata": {},
   "outputs": [
    {
     "data": {
      "text/plain": [
       "RandomForestClassifier()"
      ]
     },
     "execution_count": 59,
     "metadata": {},
     "output_type": "execute_result"
    }
   ],
   "source": [
    "from sklearn.ensemble import RandomForestClassifier\n",
    "modelrfc=RandomForestClassifier()\n",
    "modelrfc.fit(X_train,y_train)"
   ]
  },
  {
   "cell_type": "code",
   "execution_count": 60,
   "id": "26aee644",
   "metadata": {},
   "outputs": [],
   "source": [
    "ypredrfc=modelrfc.predict(X_test)"
   ]
  },
  {
   "cell_type": "code",
   "execution_count": 61,
   "id": "1e1f65cb",
   "metadata": {},
   "outputs": [
    {
     "data": {
      "text/plain": [
       "0.7733647251509879"
      ]
     },
     "execution_count": 61,
     "metadata": {},
     "output_type": "execute_result"
    }
   ],
   "source": [
    "metrics.accuracy_score(ypredrfc,y_test)"
   ]
  },
  {
   "cell_type": "markdown",
   "id": "ac7f2fcf",
   "metadata": {},
   "source": [
    "Cat boost performs the best"
   ]
  },
  {
   "cell_type": "code",
   "execution_count": 62,
   "id": "f0dd663e",
   "metadata": {},
   "outputs": [],
   "source": [
    "import pickle\n",
    "pickle.dump(modelcb,open('model1.pkl','wb'))"
   ]
  },
  {
   "cell_type": "code",
   "execution_count": 63,
   "id": "81a3c3ca",
   "metadata": {},
   "outputs": [],
   "source": [
    "model1 = pickle.load(open('model1.pkl','rb'))"
   ]
  },
  {
   "cell_type": "code",
   "execution_count": null,
   "id": "f24c0e0c",
   "metadata": {},
   "outputs": [],
   "source": []
  }
 ],
 "metadata": {
  "kernelspec": {
   "display_name": "Python 3.9.7 ('base')",
   "language": "python",
   "name": "python3"
  },
  "language_info": {
   "codemirror_mode": {
    "name": "ipython",
    "version": 3
   },
   "file_extension": ".py",
   "mimetype": "text/x-python",
   "name": "python",
   "nbconvert_exporter": "python",
   "pygments_lexer": "ipython3",
   "version": "3.8.8"
  },
  "vscode": {
   "interpreter": {
    "hash": "0ac7ee38b651cd756b663ccb6545cb22d8e74deaa3e1a6fbf8dd6029ac7e6bc3"
   }
  }
 },
 "nbformat": 4,
 "nbformat_minor": 5
}
